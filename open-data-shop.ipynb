{
 "cells": [
  {
   "cell_type": "code",
   "execution_count": 1,
   "metadata": {},
   "outputs": [
    {
     "data": {
      "text/plain": [
       "'C:\\\\Users\\\\home\\\\dataitgirls\\\\open-data-shop'"
      ]
     },
     "execution_count": 1,
     "metadata": {},
     "output_type": "execute_result"
    }
   ],
   "source": [
    "# 현재 노트북의 위치 확인\n",
    "%pwd"
   ]
  },
  {
   "cell_type": "code",
   "execution_count": 4,
   "metadata": {},
   "outputs": [
    {
     "name": "stdout",
     "output_type": "stream",
     "text": [
      " C 드라이브의 볼륨: S3A4924D002\n",
      " 볼륨 일련 번호: 62EA-1054\n",
      "\n",
      " C:\\Users\\home\\dataitgirls\\open-data-shop 디렉터리\n",
      "\n",
      "2018-08-09  오후 03:53    <DIR>          .\n",
      "2018-08-09  오후 03:53    <DIR>          ..\n",
      "2018-08-09  오후 03:31                39 .gitignore\n",
      "2018-08-09  오후 03:47    <DIR>          .ipynb_checkpoints\n",
      "2018-08-09  오후 03:26    <DIR>          data\n",
      "2018-08-09  오후 03:31             1,090 LICENSE\n",
      "2018-08-09  오후 03:53             2,267 open-data-shop.ipynb\n",
      "               3개 파일               3,396 바이트\n",
      "               4개 디렉터리  222,322,581,504 바이트 남음\n",
      " C 드라이브의 볼륨: S3A4924D002\n",
      " 볼륨 일련 번호: 62EA-1054\n",
      "\n",
      " C:\\Users\\home\\dataitgirls\\open-data-shop\\data 디렉터리\n",
      "\n",
      "2018-08-09  오후 03:26    <DIR>          .\n",
      "2018-08-09  오후 03:26    <DIR>          ..\n",
      "2018-07-25  오후 03:00       197,851,676 201806_02.csv\n",
      "2018-07-25  오후 04:58       336,210,823 201806_03.csv\n",
      "2018-07-25  오후 04:36       305,842,209 201806_04.csv\n",
      "               3개 파일         839,904,708 바이트\n",
      "               2개 디렉터리  222,322,581,504 바이트 남음\n"
     ]
    }
   ],
   "source": [
    "# 현재 폴더의 목록 확인, 불러올 data가 같은 폴더에 있는지 확인\n",
    "%ls\n",
    "\n",
    "%ls data"
   ]
  },
  {
   "cell_type": "code",
   "execution_count": 3,
   "metadata": {},
   "outputs": [],
   "source": [
    "# pandas 불러오기\n",
    "import pandas as pd\n",
    "\n",
    "# matplotlib 불러오기\n",
    "%matplotlib inline"
   ]
  },
  {
   "cell_type": "code",
   "execution_count": 5,
   "metadata": {},
   "outputs": [
    {
     "name": "stderr",
     "output_type": "stream",
     "text": [
      "C:\\Users\\home\\Anaconda3\\lib\\site-packages\\IPython\\core\\interactiveshell.py:2785: DtypeWarning: Columns (35) have mixed types. Specify dtype option on import or set low_memory=False.\n",
      "  interactivity=interactivity, compiler=compiler, result=result)\n"
     ]
    }
   ],
   "source": [
    "# 저장된 csv 파일을 불러오기\n",
    "df_shop = pd.read_csv('data/201806_02.csv', encoding='cp949')"
   ]
  },
  {
   "cell_type": "code",
   "execution_count": 6,
   "metadata": {},
   "outputs": [
    {
     "data": {
      "text/plain": [
       "(447077, 39)"
      ]
     },
     "execution_count": 6,
     "metadata": {},
     "output_type": "execute_result"
    }
   ],
   "source": [
    "# 불러온 파일의 형태를 확인하기\n",
    "df_shop.shape"
   ]
  },
  {
   "cell_type": "code",
   "execution_count": null,
   "metadata": {},
   "outputs": [],
   "source": []
  }
 ],
 "metadata": {
  "kernelspec": {
   "display_name": "Python 3",
   "language": "python",
   "name": "python3"
  },
  "language_info": {
   "codemirror_mode": {
    "name": "ipython",
    "version": 3
   },
   "file_extension": ".py",
   "mimetype": "text/x-python",
   "name": "python",
   "nbconvert_exporter": "python",
   "pygments_lexer": "ipython3",
   "version": "3.6.5"
  }
 },
 "nbformat": 4,
 "nbformat_minor": 2
}
