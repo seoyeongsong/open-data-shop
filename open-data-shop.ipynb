{
 "cells": [
  {
   "cell_type": "code",
   "execution_count": 1,
   "metadata": {},
   "outputs": [
    {
     "data": {
      "text/plain": [
       "'C:\\\\Users\\\\home\\\\dataitgirls\\\\open-data-shop'"
      ]
     },
     "execution_count": 1,
     "metadata": {},
     "output_type": "execute_result"
    }
   ],
   "source": [
    "# 현재 노트북의 위치 확인\n",
    "%pwd"
   ]
  },
  {
   "cell_type": "code",
   "execution_count": 4,
   "metadata": {},
   "outputs": [
    {
     "name": "stdout",
     "output_type": "stream",
     "text": [
      " C 드라이브의 볼륨: S3A4924D002\n",
      " 볼륨 일련 번호: 62EA-1054\n",
      "\n",
      " C:\\Users\\home\\dataitgirls\\open-data-shop 디렉터리\n",
      "\n",
      "2018-08-09  오후 03:53    <DIR>          .\n",
      "2018-08-09  오후 03:53    <DIR>          ..\n",
      "2018-08-09  오후 03:31                39 .gitignore\n",
      "2018-08-09  오후 03:47    <DIR>          .ipynb_checkpoints\n",
      "2018-08-09  오후 03:26    <DIR>          data\n",
      "2018-08-09  오후 03:31             1,090 LICENSE\n",
      "2018-08-09  오후 03:53             2,267 open-data-shop.ipynb\n",
      "               3개 파일               3,396 바이트\n",
      "               4개 디렉터리  222,322,581,504 바이트 남음\n",
      " C 드라이브의 볼륨: S3A4924D002\n",
      " 볼륨 일련 번호: 62EA-1054\n",
      "\n",
      " C:\\Users\\home\\dataitgirls\\open-data-shop\\data 디렉터리\n",
      "\n",
      "2018-08-09  오후 03:26    <DIR>          .\n",
      "2018-08-09  오후 03:26    <DIR>          ..\n",
      "2018-07-25  오후 03:00       197,851,676 201806_02.csv\n",
      "2018-07-25  오후 04:58       336,210,823 201806_03.csv\n",
      "2018-07-25  오후 04:36       305,842,209 201806_04.csv\n",
      "               3개 파일         839,904,708 바이트\n",
      "               2개 디렉터리  222,322,581,504 바이트 남음\n"
     ]
    }
   ],
   "source": [
    "# 현재 폴더의 목록 확인, 불러올 data가 같은 폴더에 있는지 확인\n",
    "%ls\n",
    "\n",
    "%ls data"
   ]
  },
  {
   "cell_type": "code",
   "execution_count": 3,
   "metadata": {},
   "outputs": [],
   "source": [
    "# pandas 불러오기\n",
    "import pandas as pd\n",
    "\n",
    "# matplotlib 불러오기\n",
    "%matplotlib inline"
   ]
  },
  {
   "cell_type": "code",
   "execution_count": 5,
   "metadata": {},
   "outputs": [
    {
     "name": "stderr",
     "output_type": "stream",
     "text": [
      "C:\\Users\\home\\Anaconda3\\lib\\site-packages\\IPython\\core\\interactiveshell.py:2785: DtypeWarning: Columns (35) have mixed types. Specify dtype option on import or set low_memory=False.\n",
      "  interactivity=interactivity, compiler=compiler, result=result)\n"
     ]
    }
   ],
   "source": [
    "# 저장된 csv 파일을 불러오기\n",
    "df_shop = pd.read_csv('data/201806_02.csv', encoding='cp949')"
   ]
  },
  {
   "cell_type": "code",
   "execution_count": 6,
   "metadata": {},
   "outputs": [
    {
     "data": {
      "text/plain": [
       "(447077, 39)"
      ]
     },
     "execution_count": 6,
     "metadata": {},
     "output_type": "execute_result"
    }
   ],
   "source": [
    "# 불러온 파일의 형태를 확인하기\n",
    "df_shop.shape"
   ]
  },
  {
   "cell_type": "code",
   "execution_count": 7,
   "metadata": {},
   "outputs": [
    {
     "data": {
      "text/html": [
       "<div>\n",
       "<style scoped>\n",
       "    .dataframe tbody tr th:only-of-type {\n",
       "        vertical-align: middle;\n",
       "    }\n",
       "\n",
       "    .dataframe tbody tr th {\n",
       "        vertical-align: top;\n",
       "    }\n",
       "\n",
       "    .dataframe thead th {\n",
       "        text-align: right;\n",
       "    }\n",
       "</style>\n",
       "<table border=\"1\" class=\"dataframe\">\n",
       "  <thead>\n",
       "    <tr style=\"text-align: right;\">\n",
       "      <th></th>\n",
       "      <th>상가업소번호</th>\n",
       "      <th>상호명</th>\n",
       "      <th>지점명</th>\n",
       "      <th>상권업종대분류코드</th>\n",
       "      <th>상권업종대분류명</th>\n",
       "      <th>상권업종중분류코드</th>\n",
       "      <th>상권업종중분류명</th>\n",
       "      <th>상권업종소분류코드</th>\n",
       "      <th>상권업종소분류명</th>\n",
       "      <th>표준산업분류코드</th>\n",
       "      <th>...</th>\n",
       "      <th>건물관리번호</th>\n",
       "      <th>건물명</th>\n",
       "      <th>도로명주소</th>\n",
       "      <th>구우편번호</th>\n",
       "      <th>신우편번호</th>\n",
       "      <th>동정보</th>\n",
       "      <th>층정보</th>\n",
       "      <th>호정보</th>\n",
       "      <th>경도</th>\n",
       "      <th>위도</th>\n",
       "    </tr>\n",
       "  </thead>\n",
       "  <tbody>\n",
       "    <tr>\n",
       "      <th>0</th>\n",
       "      <td>28482781</td>\n",
       "      <td>가향</td>\n",
       "      <td>NaN</td>\n",
       "      <td>Q</td>\n",
       "      <td>음식</td>\n",
       "      <td>Q03</td>\n",
       "      <td>일식/수산물</td>\n",
       "      <td>Q03A02</td>\n",
       "      <td>음식점-일식</td>\n",
       "      <td>I56113</td>\n",
       "      <td>...</td>\n",
       "      <td>2917010700113970005045297</td>\n",
       "      <td>NaN</td>\n",
       "      <td>광주광역시 북구 저불로31번길 4-1</td>\n",
       "      <td>500846</td>\n",
       "      <td>61110.0</td>\n",
       "      <td>NaN</td>\n",
       "      <td>1</td>\n",
       "      <td>NaN</td>\n",
       "      <td>126.894710</td>\n",
       "      <td>35.177430</td>\n",
       "    </tr>\n",
       "    <tr>\n",
       "      <th>1</th>\n",
       "      <td>28495010</td>\n",
       "      <td>스퀘어모텔</td>\n",
       "      <td>NaN</td>\n",
       "      <td>O</td>\n",
       "      <td>숙박</td>\n",
       "      <td>O02</td>\n",
       "      <td>모텔/여관/여인숙</td>\n",
       "      <td>O02A01</td>\n",
       "      <td>모텔/여관/여인숙</td>\n",
       "      <td>I55112</td>\n",
       "      <td>...</td>\n",
       "      <td>2914011900100230011024416</td>\n",
       "      <td>NaN</td>\n",
       "      <td>광주광역시 서구 내방로353번길 6</td>\n",
       "      <td>502240</td>\n",
       "      <td>61938.0</td>\n",
       "      <td>NaN</td>\n",
       "      <td>2</td>\n",
       "      <td>NaN</td>\n",
       "      <td>126.879708</td>\n",
       "      <td>35.157850</td>\n",
       "    </tr>\n",
       "    <tr>\n",
       "      <th>2</th>\n",
       "      <td>28485067</td>\n",
       "      <td>독도회</td>\n",
       "      <td>NaN</td>\n",
       "      <td>Q</td>\n",
       "      <td>음식</td>\n",
       "      <td>Q03</td>\n",
       "      <td>일식/수산물</td>\n",
       "      <td>Q03A01</td>\n",
       "      <td>횟집</td>\n",
       "      <td>I56111</td>\n",
       "      <td>...</td>\n",
       "      <td>2771025021102350000002739</td>\n",
       "      <td>NaN</td>\n",
       "      <td>대구광역시 달성군 화원읍 사문진로 425</td>\n",
       "      <td>711834</td>\n",
       "      <td>42954.0</td>\n",
       "      <td>NaN</td>\n",
       "      <td>1</td>\n",
       "      <td>NaN</td>\n",
       "      <td>128.495730</td>\n",
       "      <td>35.804874</td>\n",
       "    </tr>\n",
       "    <tr>\n",
       "      <th>3</th>\n",
       "      <td>28508970</td>\n",
       "      <td>돌고래펜션</td>\n",
       "      <td>NaN</td>\n",
       "      <td>O</td>\n",
       "      <td>숙박</td>\n",
       "      <td>O03</td>\n",
       "      <td>캠프/별장/펜션</td>\n",
       "      <td>O03A01</td>\n",
       "      <td>캠프/별장/펜션</td>\n",
       "      <td>I55119</td>\n",
       "      <td>...</td>\n",
       "      <td>2872036023105910029010066</td>\n",
       "      <td>상가</td>\n",
       "      <td>인천광역시 옹진군 영흥면 선재로226번길 54</td>\n",
       "      <td>409872</td>\n",
       "      <td>23122.0</td>\n",
       "      <td>NaN</td>\n",
       "      <td>NaN</td>\n",
       "      <td>NaN</td>\n",
       "      <td>126.523055</td>\n",
       "      <td>37.250135</td>\n",
       "    </tr>\n",
       "    <tr>\n",
       "      <th>4</th>\n",
       "      <td>28491156</td>\n",
       "      <td>라비타</td>\n",
       "      <td>NaN</td>\n",
       "      <td>Q</td>\n",
       "      <td>음식</td>\n",
       "      <td>Q12</td>\n",
       "      <td>커피점/카페</td>\n",
       "      <td>Q12A01</td>\n",
       "      <td>커피전문점/카페/다방</td>\n",
       "      <td>I56220</td>\n",
       "      <td>...</td>\n",
       "      <td>3017010300101100010025915</td>\n",
       "      <td>NaN</td>\n",
       "      <td>대전광역시 서구 도솔4길 16</td>\n",
       "      <td>302160</td>\n",
       "      <td>35338.0</td>\n",
       "      <td>NaN</td>\n",
       "      <td>1</td>\n",
       "      <td>NaN</td>\n",
       "      <td>127.372459</td>\n",
       "      <td>36.316913</td>\n",
       "    </tr>\n",
       "  </tbody>\n",
       "</table>\n",
       "<p>5 rows × 39 columns</p>\n",
       "</div>"
      ],
      "text/plain": [
       "     상가업소번호    상호명  지점명 상권업종대분류코드 상권업종대분류명 상권업종중분류코드   상권업종중분류명 상권업종소분류코드  \\\n",
       "0  28482781     가향  NaN         Q       음식       Q03     일식/수산물    Q03A02   \n",
       "1  28495010  스퀘어모텔  NaN         O       숙박       O02  모텔/여관/여인숙    O02A01   \n",
       "2  28485067    독도회  NaN         Q       음식       Q03     일식/수산물    Q03A01   \n",
       "3  28508970  돌고래펜션  NaN         O       숙박       O03   캠프/별장/펜션    O03A01   \n",
       "4  28491156    라비타  NaN         Q       음식       Q12     커피점/카페    Q12A01   \n",
       "\n",
       "      상권업종소분류명 표준산업분류코드    ...                         건물관리번호  건물명  \\\n",
       "0       음식점-일식   I56113    ...      2917010700113970005045297  NaN   \n",
       "1    모텔/여관/여인숙   I55112    ...      2914011900100230011024416  NaN   \n",
       "2           횟집   I56111    ...      2771025021102350000002739  NaN   \n",
       "3     캠프/별장/펜션   I55119    ...      2872036023105910029010066   상가   \n",
       "4  커피전문점/카페/다방   I56220    ...      3017010300101100010025915  NaN   \n",
       "\n",
       "                       도로명주소   구우편번호    신우편번호  동정보  층정보  호정보          경도  \\\n",
       "0       광주광역시 북구 저불로31번길 4-1  500846  61110.0  NaN    1  NaN  126.894710   \n",
       "1        광주광역시 서구 내방로353번길 6  502240  61938.0  NaN    2  NaN  126.879708   \n",
       "2     대구광역시 달성군 화원읍 사문진로 425  711834  42954.0  NaN    1  NaN  128.495730   \n",
       "3  인천광역시 옹진군 영흥면 선재로226번길 54  409872  23122.0  NaN  NaN  NaN  126.523055   \n",
       "4           대전광역시 서구 도솔4길 16  302160  35338.0  NaN    1  NaN  127.372459   \n",
       "\n",
       "          위도  \n",
       "0  35.177430  \n",
       "1  35.157850  \n",
       "2  35.804874  \n",
       "3  37.250135  \n",
       "4  36.316913  \n",
       "\n",
       "[5 rows x 39 columns]"
      ]
     },
     "execution_count": 7,
     "metadata": {},
     "output_type": "execute_result"
    }
   ],
   "source": [
    "df_shop.head()"
   ]
  },
  {
   "cell_type": "code",
   "execution_count": null,
   "metadata": {},
   "outputs": [],
   "source": []
  }
 ],
 "metadata": {
  "kernelspec": {
   "display_name": "Python 3",
   "language": "python",
   "name": "python3"
  },
  "language_info": {
   "codemirror_mode": {
    "name": "ipython",
    "version": 3
   },
   "file_extension": ".py",
   "mimetype": "text/x-python",
   "name": "python",
   "nbconvert_exporter": "python",
   "pygments_lexer": "ipython3",
   "version": "3.6.5"
  }
 },
 "nbformat": 4,
 "nbformat_minor": 2
}
